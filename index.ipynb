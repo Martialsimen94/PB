{
 "cells": [
  {
   "cell_type": "code",
   "execution_count": null,
   "metadata": {},
   "outputs": [],
   "source": [
    "# Projet analyse de donnée\n",
    "\n",
    "## préambule : Importation des packages"
   ]
  },
  {
   "cell_type": "code",
   "execution_count": 2,
   "metadata": {},
   "outputs": [
    {
     "name": "stderr",
     "output_type": "stream",
     "text": [
      "Matplotlib is building the font cache; this may take a moment.\n"
     ]
    }
   ],
   "source": [
    "import pandas as pd\n",
    "import matplotlib.pyplot as plt\n",
    "import numpy as np"
   ]
  },
  {
   "cell_type": "code",
   "execution_count": 6,
   "metadata": {},
   "outputs": [],
   "source": [
    "df = pd.read_csv('../PB/data/death.csv')"
   ]
  },
  {
   "cell_type": "code",
   "execution_count": 7,
   "metadata": {},
   "outputs": [
    {
     "data": {
      "text/html": [
       "<div>\n",
       "<style scoped>\n",
       "    .dataframe tbody tr th:only-of-type {\n",
       "        vertical-align: middle;\n",
       "    }\n",
       "\n",
       "    .dataframe tbody tr th {\n",
       "        vertical-align: top;\n",
       "    }\n",
       "\n",
       "    .dataframe thead th {\n",
       "        text-align: right;\n",
       "    }\n",
       "</style>\n",
       "<table border=\"1\" class=\"dataframe\">\n",
       "  <thead>\n",
       "    <tr style=\"text-align: right;\">\n",
       "      <th></th>\n",
       "      <th>TIME</th>\n",
       "      <th>GEO</th>\n",
       "      <th>UNIT</th>\n",
       "      <th>SEX</th>\n",
       "      <th>AGE</th>\n",
       "      <th>ICD10</th>\n",
       "      <th>Value</th>\n",
       "      <th>Flag and Footnotes</th>\n",
       "    </tr>\n",
       "  </thead>\n",
       "  <tbody>\n",
       "    <tr>\n",
       "      <th>0</th>\n",
       "      <td>2001</td>\n",
       "      <td>France</td>\n",
       "      <td>Number</td>\n",
       "      <td>Males</td>\n",
       "      <td>Total</td>\n",
       "      <td>All causes of death (A00-Y89) excluding S00-T98</td>\n",
       "      <td>277 858</td>\n",
       "      <td>NaN</td>\n",
       "    </tr>\n",
       "    <tr>\n",
       "      <th>1</th>\n",
       "      <td>2001</td>\n",
       "      <td>France</td>\n",
       "      <td>Number</td>\n",
       "      <td>Males</td>\n",
       "      <td>Total</td>\n",
       "      <td>Certain infectious and parasitic diseases (A00...</td>\n",
       "      <td>5 347</td>\n",
       "      <td>NaN</td>\n",
       "    </tr>\n",
       "    <tr>\n",
       "      <th>2</th>\n",
       "      <td>2001</td>\n",
       "      <td>France</td>\n",
       "      <td>Number</td>\n",
       "      <td>Males</td>\n",
       "      <td>Total</td>\n",
       "      <td>Tuberculosis</td>\n",
       "      <td>545</td>\n",
       "      <td>NaN</td>\n",
       "    </tr>\n",
       "    <tr>\n",
       "      <th>3</th>\n",
       "      <td>2001</td>\n",
       "      <td>France</td>\n",
       "      <td>Number</td>\n",
       "      <td>Males</td>\n",
       "      <td>Total</td>\n",
       "      <td>Meningococcal infection</td>\n",
       "      <td>30</td>\n",
       "      <td>NaN</td>\n",
       "    </tr>\n",
       "    <tr>\n",
       "      <th>4</th>\n",
       "      <td>2001</td>\n",
       "      <td>France</td>\n",
       "      <td>Number</td>\n",
       "      <td>Males</td>\n",
       "      <td>Total</td>\n",
       "      <td>Viral hepatitis</td>\n",
       "      <td>471</td>\n",
       "      <td>NaN</td>\n",
       "    </tr>\n",
       "  </tbody>\n",
       "</table>\n",
       "</div>"
      ],
      "text/plain": [
       "   TIME     GEO    UNIT    SEX    AGE  \\\n",
       "0  2001  France  Number  Males  Total   \n",
       "1  2001  France  Number  Males  Total   \n",
       "2  2001  France  Number  Males  Total   \n",
       "3  2001  France  Number  Males  Total   \n",
       "4  2001  France  Number  Males  Total   \n",
       "\n",
       "                                               ICD10    Value  \\\n",
       "0    All causes of death (A00-Y89) excluding S00-T98  277 858   \n",
       "1  Certain infectious and parasitic diseases (A00...    5 347   \n",
       "2                                       Tuberculosis      545   \n",
       "3                            Meningococcal infection       30   \n",
       "4                                    Viral hepatitis      471   \n",
       "\n",
       "   Flag and Footnotes  \n",
       "0                 NaN  \n",
       "1                 NaN  \n",
       "2                 NaN  \n",
       "3                 NaN  \n",
       "4                 NaN  "
      ]
     },
     "execution_count": 7,
     "metadata": {},
     "output_type": "execute_result"
    }
   ],
   "source": [
    "df.head()"
   ]
  },
  {
   "cell_type": "code",
   "execution_count": 8,
   "metadata": {},
   "outputs": [
    {
     "name": "stdout",
     "output_type": "stream",
     "text": [
      "|    |   TIME | GEO    | UNIT   | SEX   | AGE   | ICD10                                               | Value   |   Flag and Footnotes |\n",
      "|---:|-------:|:-------|:-------|:------|:------|:----------------------------------------------------|:--------|---------------------:|\n",
      "|  0 |   2001 | France | Number | Males | Total | All causes of death (A00-Y89) excluding S00-T98     | 277 858 |                  nan |\n",
      "|  1 |   2001 | France | Number | Males | Total | Certain infectious and parasitic diseases (A00-B99) | 5 347   |                  nan |\n",
      "|  2 |   2001 | France | Number | Males | Total | Tuberculosis                                        | 545     |                  nan |\n",
      "|  3 |   2001 | France | Number | Males | Total | Meningococcal infection                             | 30      |                  nan |\n",
      "|  4 |   2001 | France | Number | Males | Total | Viral hepatitis                                     | 471     |                  nan |\n"
     ]
    }
   ],
   "source": [
    "print(df.head().to_markdown())"
   ]
  },
  {
   "cell_type": "code",
   "execution_count": null,
   "metadata": {},
   "outputs": [],
   "source": []
  }
 ],
 "metadata": {
  "kernelspec": {
   "display_name": "Python 3.9.13 ('base')",
   "language": "python",
   "name": "python3"
  },
  "language_info": {
   "codemirror_mode": {
    "name": "ipython",
    "version": 3
   },
   "file_extension": ".py",
   "mimetype": "text/x-python",
   "name": "python",
   "nbconvert_exporter": "python",
   "pygments_lexer": "ipython3",
   "version": "3.9.13"
  },
  "orig_nbformat": 4,
  "vscode": {
   "interpreter": {
    "hash": "5fe6362a1247230475cca48cc89318fafefc73176a1be7d5298e3f3afcd70902"
   }
  }
 },
 "nbformat": 4,
 "nbformat_minor": 2
}
